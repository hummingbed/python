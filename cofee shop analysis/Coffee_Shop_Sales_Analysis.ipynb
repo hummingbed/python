{
 "cells": [
  {
   "cell_type": "markdown",
   "id": "867768bb-c3b9-482a-b4bb-f061892c6212",
   "metadata": {},
   "source": [
    "# Coffee Shop Sales Analysis\n",
    "\n",
    "## Introduction\n",
    "This project analyzes a dataset of coffee shop sales to uncover trends, patterns, and insights into product performance and customer purchasing behavior. The dataset includes transaction-level data over six months, providing detailed information about:\n",
    "\n",
    "- Products sold\n",
    "- Store locations\n",
    "- Transaction dates and times\n",
    "- Pricing and sales quantities\n",
    "\n",
    "By exploring this dataset, answers to key business questions will be proviede such as:\n",
    "- What are the top-selling products?\n",
    "- What times of day drive the highest sales?\n",
    "- Are there any trends in pricing or product performance?\n",
    "- How do sales vary across different store locations?\n",
    "\n",
    "The goal is to use data visualization and statistical analysis to identify areas of high sales, highlight underperforming products, and suggest potential growth opportunities for the coffee shop.\n",
    "\n",
    "---\n",
    "\n",
    "## Data Source\n",
    "The dataset used in this analysis is publicly available on Kaggle:\n",
    "[Coffee Sales Dataset](https://www.kaggle.com/datasets/ahmedabbas757/coffee-sales)\n",
    "\n",
    "---\n",
    "\n",
    "## Analysis Workflow\n",
    "1. **Data Understanding**:\n",
    "   - Exploring data types, unique values, and summary statistics.\n",
    "2. **Data Visualization**:\n",
    "   - Creating plots to identify patterns, trends, and outliers.\n",
    "3. **Insights and Recommendations**:\n",
    "   - Highlighting areas of high performance and growth opportunities.\n"
   ]
  },
  {
   "cell_type": "markdown",
   "id": "c2fe3dd5-f2c8-40d4-a603-b52de5041646",
   "metadata": {},
   "source": [
    "### Importing libraries and Loading the dataset"
   ]
  },
  {
   "cell_type": "code",
   "execution_count": 1,
   "id": "35ce6a24-2117-431b-93e3-51efe7cba2c4",
   "metadata": {},
   "outputs": [],
   "source": [
    "import pandas as pd\n",
    "import numpy as np\n",
    "import matplotlib.pyplot as plt\n",
    "import seaborn as sns\n",
    "import matplotlib.pyplot as plt"
   ]
  },
  {
   "cell_type": "code",
   "execution_count": 2,
   "id": "90576933-ccbd-4d43-8ac5-0b56f9cff46a",
   "metadata": {},
   "outputs": [
    {
     "data": {
      "text/html": [
       "<div>\n",
       "<style scoped>\n",
       "    .dataframe tbody tr th:only-of-type {\n",
       "        vertical-align: middle;\n",
       "    }\n",
       "\n",
       "    .dataframe tbody tr th {\n",
       "        vertical-align: top;\n",
       "    }\n",
       "\n",
       "    .dataframe thead th {\n",
       "        text-align: right;\n",
       "    }\n",
       "</style>\n",
       "<table border=\"1\" class=\"dataframe\">\n",
       "  <thead>\n",
       "    <tr style=\"text-align: right;\">\n",
       "      <th></th>\n",
       "      <th>transaction_id</th>\n",
       "      <th>transaction_date</th>\n",
       "      <th>transaction_time</th>\n",
       "      <th>transaction_qty</th>\n",
       "      <th>store_id</th>\n",
       "      <th>store_location</th>\n",
       "      <th>product_id</th>\n",
       "      <th>unit_price</th>\n",
       "      <th>product_category</th>\n",
       "      <th>product_type</th>\n",
       "      <th>product_detail</th>\n",
       "    </tr>\n",
       "  </thead>\n",
       "  <tbody>\n",
       "    <tr>\n",
       "      <th>0</th>\n",
       "      <td>1</td>\n",
       "      <td>2023-01-01</td>\n",
       "      <td>07:06:11</td>\n",
       "      <td>2</td>\n",
       "      <td>5</td>\n",
       "      <td>Lower Manhattan</td>\n",
       "      <td>32</td>\n",
       "      <td>3.00</td>\n",
       "      <td>Coffee</td>\n",
       "      <td>Gourmet brewed coffee</td>\n",
       "      <td>Ethiopia Rg</td>\n",
       "    </tr>\n",
       "    <tr>\n",
       "      <th>1</th>\n",
       "      <td>2</td>\n",
       "      <td>2023-01-01</td>\n",
       "      <td>07:08:56</td>\n",
       "      <td>2</td>\n",
       "      <td>5</td>\n",
       "      <td>Lower Manhattan</td>\n",
       "      <td>57</td>\n",
       "      <td>3.10</td>\n",
       "      <td>Tea</td>\n",
       "      <td>Brewed Chai tea</td>\n",
       "      <td>Spicy Eye Opener Chai Lg</td>\n",
       "    </tr>\n",
       "    <tr>\n",
       "      <th>2</th>\n",
       "      <td>3</td>\n",
       "      <td>2023-01-01</td>\n",
       "      <td>07:14:04</td>\n",
       "      <td>2</td>\n",
       "      <td>5</td>\n",
       "      <td>Lower Manhattan</td>\n",
       "      <td>59</td>\n",
       "      <td>4.50</td>\n",
       "      <td>Drinking Chocolate</td>\n",
       "      <td>Hot chocolate</td>\n",
       "      <td>Dark chocolate Lg</td>\n",
       "    </tr>\n",
       "    <tr>\n",
       "      <th>3</th>\n",
       "      <td>4</td>\n",
       "      <td>2023-01-01</td>\n",
       "      <td>07:20:24</td>\n",
       "      <td>1</td>\n",
       "      <td>5</td>\n",
       "      <td>Lower Manhattan</td>\n",
       "      <td>22</td>\n",
       "      <td>2.00</td>\n",
       "      <td>Coffee</td>\n",
       "      <td>Drip coffee</td>\n",
       "      <td>Our Old Time Diner Blend Sm</td>\n",
       "    </tr>\n",
       "    <tr>\n",
       "      <th>4</th>\n",
       "      <td>5</td>\n",
       "      <td>2023-01-01</td>\n",
       "      <td>07:22:41</td>\n",
       "      <td>2</td>\n",
       "      <td>5</td>\n",
       "      <td>Lower Manhattan</td>\n",
       "      <td>57</td>\n",
       "      <td>3.10</td>\n",
       "      <td>Tea</td>\n",
       "      <td>Brewed Chai tea</td>\n",
       "      <td>Spicy Eye Opener Chai Lg</td>\n",
       "    </tr>\n",
       "    <tr>\n",
       "      <th>...</th>\n",
       "      <td>...</td>\n",
       "      <td>...</td>\n",
       "      <td>...</td>\n",
       "      <td>...</td>\n",
       "      <td>...</td>\n",
       "      <td>...</td>\n",
       "      <td>...</td>\n",
       "      <td>...</td>\n",
       "      <td>...</td>\n",
       "      <td>...</td>\n",
       "      <td>...</td>\n",
       "    </tr>\n",
       "    <tr>\n",
       "      <th>149111</th>\n",
       "      <td>149452</td>\n",
       "      <td>2023-06-30</td>\n",
       "      <td>20:18:41</td>\n",
       "      <td>2</td>\n",
       "      <td>8</td>\n",
       "      <td>Hell's Kitchen</td>\n",
       "      <td>44</td>\n",
       "      <td>2.50</td>\n",
       "      <td>Tea</td>\n",
       "      <td>Brewed herbal tea</td>\n",
       "      <td>Peppermint Rg</td>\n",
       "    </tr>\n",
       "    <tr>\n",
       "      <th>149112</th>\n",
       "      <td>149453</td>\n",
       "      <td>2023-06-30</td>\n",
       "      <td>20:25:10</td>\n",
       "      <td>2</td>\n",
       "      <td>8</td>\n",
       "      <td>Hell's Kitchen</td>\n",
       "      <td>49</td>\n",
       "      <td>3.00</td>\n",
       "      <td>Tea</td>\n",
       "      <td>Brewed Black tea</td>\n",
       "      <td>English Breakfast Lg</td>\n",
       "    </tr>\n",
       "    <tr>\n",
       "      <th>149113</th>\n",
       "      <td>149454</td>\n",
       "      <td>2023-06-30</td>\n",
       "      <td>20:31:34</td>\n",
       "      <td>1</td>\n",
       "      <td>8</td>\n",
       "      <td>Hell's Kitchen</td>\n",
       "      <td>45</td>\n",
       "      <td>3.00</td>\n",
       "      <td>Tea</td>\n",
       "      <td>Brewed herbal tea</td>\n",
       "      <td>Peppermint Lg</td>\n",
       "    </tr>\n",
       "    <tr>\n",
       "      <th>149114</th>\n",
       "      <td>149455</td>\n",
       "      <td>2023-06-30</td>\n",
       "      <td>20:57:19</td>\n",
       "      <td>1</td>\n",
       "      <td>8</td>\n",
       "      <td>Hell's Kitchen</td>\n",
       "      <td>40</td>\n",
       "      <td>3.75</td>\n",
       "      <td>Coffee</td>\n",
       "      <td>Barista Espresso</td>\n",
       "      <td>Cappuccino</td>\n",
       "    </tr>\n",
       "    <tr>\n",
       "      <th>149115</th>\n",
       "      <td>149456</td>\n",
       "      <td>2023-06-30</td>\n",
       "      <td>20:57:19</td>\n",
       "      <td>2</td>\n",
       "      <td>8</td>\n",
       "      <td>Hell's Kitchen</td>\n",
       "      <td>64</td>\n",
       "      <td>0.80</td>\n",
       "      <td>Flavours</td>\n",
       "      <td>Regular syrup</td>\n",
       "      <td>Hazelnut syrup</td>\n",
       "    </tr>\n",
       "  </tbody>\n",
       "</table>\n",
       "<p>149116 rows × 11 columns</p>\n",
       "</div>"
      ],
      "text/plain": [
       "        transaction_id transaction_date transaction_time  transaction_qty  \\\n",
       "0                    1       2023-01-01         07:06:11                2   \n",
       "1                    2       2023-01-01         07:08:56                2   \n",
       "2                    3       2023-01-01         07:14:04                2   \n",
       "3                    4       2023-01-01         07:20:24                1   \n",
       "4                    5       2023-01-01         07:22:41                2   \n",
       "...                ...              ...              ...              ...   \n",
       "149111          149452       2023-06-30         20:18:41                2   \n",
       "149112          149453       2023-06-30         20:25:10                2   \n",
       "149113          149454       2023-06-30         20:31:34                1   \n",
       "149114          149455       2023-06-30         20:57:19                1   \n",
       "149115          149456       2023-06-30         20:57:19                2   \n",
       "\n",
       "        store_id   store_location  product_id  unit_price    product_category  \\\n",
       "0              5  Lower Manhattan          32        3.00              Coffee   \n",
       "1              5  Lower Manhattan          57        3.10                 Tea   \n",
       "2              5  Lower Manhattan          59        4.50  Drinking Chocolate   \n",
       "3              5  Lower Manhattan          22        2.00              Coffee   \n",
       "4              5  Lower Manhattan          57        3.10                 Tea   \n",
       "...          ...              ...         ...         ...                 ...   \n",
       "149111         8   Hell's Kitchen          44        2.50                 Tea   \n",
       "149112         8   Hell's Kitchen          49        3.00                 Tea   \n",
       "149113         8   Hell's Kitchen          45        3.00                 Tea   \n",
       "149114         8   Hell's Kitchen          40        3.75              Coffee   \n",
       "149115         8   Hell's Kitchen          64        0.80            Flavours   \n",
       "\n",
       "                 product_type               product_detail  \n",
       "0       Gourmet brewed coffee                  Ethiopia Rg  \n",
       "1             Brewed Chai tea     Spicy Eye Opener Chai Lg  \n",
       "2               Hot chocolate            Dark chocolate Lg  \n",
       "3                 Drip coffee  Our Old Time Diner Blend Sm  \n",
       "4             Brewed Chai tea     Spicy Eye Opener Chai Lg  \n",
       "...                       ...                          ...  \n",
       "149111      Brewed herbal tea                Peppermint Rg  \n",
       "149112       Brewed Black tea         English Breakfast Lg  \n",
       "149113      Brewed herbal tea                Peppermint Lg  \n",
       "149114       Barista Espresso                   Cappuccino  \n",
       "149115          Regular syrup               Hazelnut syrup  \n",
       "\n",
       "[149116 rows x 11 columns]"
      ]
     },
     "execution_count": 2,
     "metadata": {},
     "output_type": "execute_result"
    }
   ],
   "source": [
    "# Read the Excel file\n",
    "df = pd.read_excel('coffee_shop_sales.xlsx')\n",
    "\n",
    "df"
   ]
  },
  {
   "cell_type": "markdown",
   "id": "470c95f4-df7e-4bfc-a33f-cd8496bdea32",
   "metadata": {},
   "source": [
    "### Dataset Overview\n",
    "\n",
    "The dataset contains transaction-level data from a coffee shop, with a total of **149,116 entries** and **11 columns**. Below is the summary of the dataset:"
   ]
  },
  {
   "cell_type": "code",
   "execution_count": 3,
   "id": "0be161c6-875f-4a78-9a29-500599984473",
   "metadata": {},
   "outputs": [
    {
     "name": "stdout",
     "output_type": "stream",
     "text": [
      "<class 'pandas.core.frame.DataFrame'>\n",
      "RangeIndex: 149116 entries, 0 to 149115\n",
      "Data columns (total 11 columns):\n",
      " #   Column            Non-Null Count   Dtype         \n",
      "---  ------            --------------   -----         \n",
      " 0   transaction_id    149116 non-null  int64         \n",
      " 1   transaction_date  149116 non-null  datetime64[ns]\n",
      " 2   transaction_time  149116 non-null  object        \n",
      " 3   transaction_qty   149116 non-null  int64         \n",
      " 4   store_id          149116 non-null  int64         \n",
      " 5   store_location    149116 non-null  object        \n",
      " 6   product_id        149116 non-null  int64         \n",
      " 7   unit_price        149116 non-null  float64       \n",
      " 8   product_category  149116 non-null  object        \n",
      " 9   product_type      149116 non-null  object        \n",
      " 10  product_detail    149116 non-null  object        \n",
      "dtypes: datetime64[ns](1), float64(1), int64(4), object(5)\n",
      "memory usage: 12.5+ MB\n"
     ]
    }
   ],
   "source": [
    "df.info()"
   ]
  },
  {
   "cell_type": "code",
   "execution_count": 4,
   "id": "9b89b2ab-64fe-48d1-b0bc-51cc5ea91a48",
   "metadata": {},
   "outputs": [
    {
     "data": {
      "text/plain": [
       "0"
      ]
     },
     "execution_count": 4,
     "metadata": {},
     "output_type": "execute_result"
    }
   ],
   "source": [
    "# the dataset contains no duplicates\n",
    "df.duplicated().sum()"
   ]
  },
  {
   "cell_type": "code",
   "execution_count": 5,
   "id": "f6a7b771-4af2-4efe-9d52-6a55d96d7521",
   "metadata": {},
   "outputs": [
    {
     "name": "stdout",
     "output_type": "stream",
     "text": [
      "\n",
      "Unique values in 'store_location':\n",
      "['Lower Manhattan' \"Hell's Kitchen\" 'Astoria']\n",
      "\n",
      "Unique values in 'product_category':\n",
      "['Coffee' 'Tea' 'Drinking Chocolate' 'Bakery' 'Flavours' 'Loose Tea'\n",
      " 'Coffee beans' 'Packaged Chocolate' 'Branded']\n",
      "\n",
      "Unique values in 'product_type':\n",
      "['Gourmet brewed coffee' 'Brewed Chai tea' 'Hot chocolate' 'Drip coffee'\n",
      " 'Scone' 'Barista Espresso' 'Brewed Black tea' 'Brewed Green tea'\n",
      " 'Brewed herbal tea' 'Biscotti']\n",
      "\n",
      "Unique values in 'product_detail':\n",
      "['Ethiopia Rg' 'Spicy Eye Opener Chai Lg' 'Dark chocolate Lg'\n",
      " 'Our Old Time Diner Blend Sm' 'Oatmeal Scone' 'Columbian Medium Roast Sm'\n",
      " 'Latte Rg' 'Dark chocolate Rg' 'Spicy Eye Opener Chai Rg' 'Ethiopia Lg']\n"
     ]
    }
   ],
   "source": [
    "# Unique Values for Categorical Columns\n",
    "categorical_columns = ['store_location', 'product_category', 'product_type', 'product_detail']\n",
    "for col in categorical_columns:\n",
    "    unique_values = df[col].unique()\n",
    "    print(f\"\\nUnique values in '{col}':\")\n",
    "    print(unique_values[:10])  "
   ]
  },
  {
   "cell_type": "code",
   "execution_count": 6,
   "id": "4af5b0a1-975b-4530-a701-ba34380c2975",
   "metadata": {},
   "outputs": [
    {
     "name": "stdout",
     "output_type": "stream",
     "text": [
      "\n",
      "Numerical Columns Descriptive Statistics:\n",
      "       transaction_qty     unit_price\n",
      "count    149116.000000  149116.000000\n",
      "mean          1.438276       3.382219\n",
      "std           0.542509       2.658723\n",
      "min           1.000000       0.800000\n",
      "25%           1.000000       2.500000\n",
      "50%           1.000000       3.000000\n",
      "75%           2.000000       3.750000\n",
      "max           8.000000      45.000000\n"
     ]
    }
   ],
   "source": [
    "# 3. Numerical Columns Descriptive Stats\n",
    "numerical_columns = ['transaction_qty', 'unit_price']\n",
    "numerical_stats = df[numerical_columns].describe()\n",
    "print(\"\\nNumerical Columns Descriptive Statistics:\")\n",
    "print(numerical_stats)"
   ]
  },
  {
   "cell_type": "code",
   "execution_count": 7,
   "id": "cbb4317d-d899-4a86-83bc-eed1a8551752",
   "metadata": {},
   "outputs": [
    {
     "name": "stdout",
     "output_type": "stream",
     "text": [
      "\n",
      "Date range for 'transaction_date': 2023-01-01 00:00:00 to 2023-06-30 00:00:00\n"
     ]
    }
   ],
   "source": [
    "# 4. Datetime Range\n",
    "datetime_col = 'transaction_date'\n",
    "if datetime_col in df.columns and pd.api.types.is_datetime64_any_dtype(df[datetime_col]):\n",
    "    min_date = df[datetime_col].min()\n",
    "    max_date = df[datetime_col].max()\n",
    "    print(f\"\\nDate range for '{datetime_col}': {min_date} to {max_date}\")\n",
    "else:\n",
    "    print(f\"\\n'{datetime_col}' is not a datetime column or is missing.\")"
   ]
  },
  {
   "cell_type": "code",
   "execution_count": 8,
   "id": "ecb92cbb-272e-4237-ae11-4f906bec4b51",
   "metadata": {},
   "outputs": [],
   "source": [
    "# df['transaction_date'] = pd.to_datetime(df['transaction_date'])\n",
    "\n",
    "# # Combine date and time for further analysis if needed\n",
    "# df['datetime'] = pd.to_datetime(df['transaction_date'].astype(str) + ' ' + df['transaction_time'])\n",
    "\n",
    "# Ensure 'transaction_date' is in datetime format\n",
    "df['transaction_date'] = pd.to_datetime(df['transaction_date'])\n",
    "\n",
    "# Convert 'transaction_time' to string (if it's a datetime.time object)\n",
    "df['transaction_time'] = df['transaction_time'].astype(str)\n",
    "\n",
    "# Combine the date and time as strings and convert to datetime\n",
    "df['datetime'] = pd.to_datetime(df['transaction_date'].dt.strftime('%Y-%m-%d') + ' ' + df['transaction_time'])\n",
    "\n"
   ]
  },
  {
   "cell_type": "code",
   "execution_count": 9,
   "id": "ea1074ee-ac33-4975-893a-1317fc43e421",
   "metadata": {},
   "outputs": [
    {
     "data": {
      "image/png": "[encoded data removed]",
      "text/plain": [
       "<Figure size 576x360 with 1 Axes>"
      ]
     },
     "metadata": {
      "needs_background": "light"
     },
     "output_type": "display_data"
    }
   ],
   "source": [
    "# 1. Histogram: Distribution of unit prices\n",
    "plt.figure(figsize=(8, 5))\n",
    "sns.histplot(df['unit_price'], bins=30, kde=True, color='blue')\n",
    "plt.title('Distribution of Unit Prices')\n",
    "plt.xlabel('Unit Price ($)')\n",
    "plt.ylabel('Frequency')\n",
    "plt.show()"
   ]
  },
  {
   "cell_type": "code",
   "execution_count": 10,
   "id": "15a36dd0-8ea3-42e6-94a1-8658946eaffd",
   "metadata": {},
   "outputs": [],
   "source": [
    "# Top-selling products by quantity\n",
    "top_products = df.groupby('product_detail')['transaction_qty'].sum().sort_values(ascending=False).head(10)\n"
   ]
  },
  {
   "cell_type": "code",
   "execution_count": 11,
   "id": "16a7a637-d8fe-4373-b795-c34f15f82cb8",
   "metadata": {},
   "outputs": [
    {
     "data": {
      "image/png": "[encoded data removed]",
      "text/plain": [
       "<Figure size 720x432 with 1 Axes>"
      ]
     },
     "metadata": {
      "needs_background": "light"
     },
     "output_type": "display_data"
    }
   ],
   "source": [
    "# Bar Chart: Top-selling products by quantity\n",
    "plt.figure(figsize=(10, 6))\n",
    "top_products.plot(kind='bar', color='orange')\n",
    "plt.title('Top 10 Selling Products')\n",
    "plt.xlabel('Product')\n",
    "plt.ylabel('Quantity Sold')\n",
    "plt.xticks(rotation=45, ha='right')\n",
    "plt.show()"
   ]
  },
  {
   "cell_type": "code",
   "execution_count": 12,
   "id": "852a9b62-a56d-4a0f-a3f6-657dfed8aef9",
   "metadata": {},
   "outputs": [
    {
     "data": {
      "text/plain": [
       "hour\n",
       "6      6865\n",
       "7     19449\n",
       "8     25197\n",
       "9     25370\n",
       "10    26713\n",
       "11    14035\n",
       "12    12690\n",
       "13    12439\n",
       "14    12907\n",
       "15    12923\n",
       "16    12881\n",
       "17    12700\n",
       "18    10826\n",
       "19     8595\n",
       "20      880\n",
       "Name: transaction_qty, dtype: int64"
      ]
     },
     "execution_count": 12,
     "metadata": {},
     "output_type": "execute_result"
    }
   ],
   "source": [
    "# Sales by time of day\n",
    "df['hour'] = pd.to_datetime(df['transaction_time']).dt.hour\n",
    "hourly_sales = df.groupby('hour')['transaction_qty'].sum()\n",
    "hourly_sales"
   ]
  },
  {
   "cell_type": "code",
   "execution_count": 13,
   "id": "2b7ccc20-65e5-4f63-9d45-ccc39a5f93b9",
   "metadata": {},
   "outputs": [
    {
     "data": {
      "image/png": "[encoded data removed]",
      "text/plain": [
       "<Figure size 576x360 with 1 Axes>"
      ]
     },
     "metadata": {
      "needs_background": "light"
     },
     "output_type": "display_data"
    }
   ],
   "source": [
    "plt.figure(figsize=(8, 5))\n",
    "hourly_sales.plot(kind='line', marker='o', color='green')\n",
    "plt.title('Sales by Hour of the Day')\n",
    "plt.xlabel('Hour of Day')\n",
    "plt.ylabel('Total Sales Quantity')\n",
    "plt.xticks(range(0, 24))\n",
    "plt.grid()\n",
    "plt.show()"
   ]
  },
  {
   "cell_type": "code",
   "execution_count": 14,
   "id": "f556410d-5d88-4bd1-9caf-a183ab2fb98c",
   "metadata": {},
   "outputs": [
    {
     "data": {
      "image/png": "[encoded data removed]",
      "text/plain": [
       "<Figure size 576x360 with 1 Axes>"
      ]
     },
     "metadata": {
      "needs_background": "light"
     },
     "output_type": "display_data"
    }
   ],
   "source": [
    "# Scatter Plot: Relationship between quantity sold and unit price\n",
    "plt.figure(figsize=(8, 5))\n",
    "sns.scatterplot(x='unit_price', y='transaction_qty', data=df, alpha=0.6)\n",
    "plt.title('Quantity Sold vs Unit Price')\n",
    "plt.xlabel('Unit Price ($)')\n",
    "plt.ylabel('Quantity Sold')\n",
    "plt.grid()\n",
    "plt.show()"
   ]
  },
  {
   "cell_type": "code",
   "execution_count": 15,
   "id": "5606fb77-9a43-4ded-b956-16bc2d6057f8",
   "metadata": {},
   "outputs": [
    {
     "data": {
      "image/png": "[encoded data removed]",
      "text/plain": [
       "<Figure size 720x432 with 1 Axes>"
      ]
     },
     "metadata": {
      "needs_background": "light"
     },
     "output_type": "display_data"
    }
   ],
   "source": [
    "# Time-series Plot: Monthly sales trends\n",
    "df['month'] = df['transaction_date'].dt.to_period('M')\n",
    "monthly_sales = df.groupby('month')['transaction_qty'].sum()\n",
    "plt.figure(figsize=(10, 6))\n",
    "monthly_sales.plot(kind='line', marker='o', color='purple')\n",
    "plt.title('Monthly Sales Trend')\n",
    "plt.xlabel('Month')\n",
    "plt.ylabel('Total Sales Quantity')\n",
    "plt.grid()\n",
    "plt.show()"
   ]
  },
  {
   "cell_type": "code",
   "execution_count": 16,
   "id": "074d9e46-83a9-411b-9b6a-6e274ce80b70",
   "metadata": {},
   "outputs": [
    {
     "name": "stdout",
     "output_type": "stream",
     "text": [
      "Top 10 Selling Products:\n",
      "                product_detail  Total Quantity\n",
      "0                 Earl Grey Rg            4708\n",
      "1            Dark chocolate Lg            4668\n",
      "2      Morning Sunrise Chai Rg            4643\n",
      "3                        Latte            4602\n",
      "4                Peppermint Rg            4564\n",
      "5    Columbian Medium Roast Rg            4547\n",
      "6    Traditional Blend Chai Rg            4512\n",
      "7                     Latte Rg            4497\n",
      "8  Our Old Time Diner Blend Sm            4484\n",
      "9        Serenity Green Tea Rg            4477\n"
     ]
    }
   ],
   "source": [
    "# Insights:\n",
    "# Top products\n",
    "top_products_summary = top_products.reset_index(name='Total Quantity')\n",
    "print(\"Top 10 Selling Products:\")\n",
    "print(top_products_summary)"
   ]
  },
  {
   "cell_type": "code",
   "execution_count": 17,
   "id": "373020f5-41e0-4a3c-b6a7-a671d52df392",
   "metadata": {},
   "outputs": [
    {
     "name": "stdout",
     "output_type": "stream",
     "text": [
      "Hour with the highest sales: 10:00 with 26713 sales.\n"
     ]
    }
   ],
   "source": [
    "# High-sales hours\n",
    "high_sales_hour = hourly_sales.idxmax()\n",
    "print(f\"Hour with the highest sales: {high_sales_hour}:00 with {hourly_sales.max()} sales.\")"
   ]
  },
  {
   "cell_type": "code",
   "execution_count": 18,
   "id": "52dc954d-d1b7-4185-aa2f-72ca84071fb4",
   "metadata": {},
   "outputs": [
    {
     "name": "stdout",
     "output_type": "stream",
     "text": [
      "\n",
      "Hours with below-average sales:\n",
      "hour\n",
      "6      6865\n",
      "11    14035\n",
      "12    12690\n",
      "13    12439\n",
      "14    12907\n",
      "15    12923\n",
      "16    12881\n",
      "17    12700\n",
      "18    10826\n",
      "19     8595\n",
      "20      880\n",
      "Name: transaction_qty, dtype: int64\n"
     ]
    }
   ],
   "source": [
    "# Potential growth areas: Look for underperforming products or times\n",
    "low_sales_hours = hourly_sales[hourly_sales < hourly_sales.mean()]\n",
    "print(\"\\nHours with below-average sales:\")\n",
    "print(low_sales_hours)"
   ]
  },
  {
   "cell_type": "code",
   "execution_count": 19,
   "id": "72bda677-152d-427b-be7a-dc713eb7d728",
   "metadata": {},
   "outputs": [
    {
     "name": "stdout",
     "output_type": "stream",
     "text": [
      "\n",
      "Correlation Matrix:\n",
      "                 transaction_qty  unit_price\n",
      "transaction_qty         1.000000   -0.123546\n",
      "unit_price             -0.123546    1.000000\n"
     ]
    }
   ],
   "source": [
    "# Correlation insights\n",
    "correlation_matrix = df[['transaction_qty', 'unit_price']].corr()\n",
    "print(\"\\nCorrelation Matrix:\")\n",
    "print(correlation_matrix)"
   ]
  },
  {
   "cell_type": "code",
   "execution_count": null,
   "id": "b5ec4152-25ac-4722-b8f1-29020f1fd6db",
   "metadata": {},
   "outputs": [],
   "source": []
  }
 ],
 "metadata": {
  "kernelspec": {
   "display_name": "Python 3 (ipykernel)",
   "language": "python",
   "name": "python3"
  },
  "language_info": {
   "codemirror_mode": {
    "name": "ipython",
    "version": 3
   },
   "file_extension": ".py",
   "mimetype": "text/x-python",
   "name": "python",
   "nbconvert_exporter": "python",
   "pygments_lexer": "ipython3",
   "version": "3.9.12"
  }
 },
 "nbformat": 4,
 "nbformat_minor": 5
}
