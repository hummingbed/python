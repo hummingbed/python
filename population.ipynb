{
 "cells": [
  {
   "cell_type": "markdown",
   "id": "1253bfc7-d17b-475b-8474-e9588c0254c2",
   "metadata": {},
   "source": [
    "# World Population Analysis\n",
    "\n",
    "This notebook explores global population trends using the provided dataset. \n",
    "It includes:\n",
    "- Analyses of population growth across countries and continents.\n",
    "- Population density comparisons.\n",
    "- Growth rate trends.\n",
    "\n",
    "Visualizations will help illustrate key patterns and insights.\n"
   ]
  },
  {
   "cell_type": "code",
   "execution_count": 1,
   "id": "ff080b5d",
   "metadata": {},
   "outputs": [],
   "source": [
    "import pandas as pd\n",
    "import matplotlib.pyplot as plt\n",
    "import seaborn as sns"
   ]
  },
  {
   "cell_type": "code",
   "execution_count": 2,
   "id": "ef13e892",
   "metadata": {},
   "outputs": [
    {
     "data": {
      "text/html": [
       "<div>\n",
       "<style scoped>\n",
       "    .dataframe tbody tr th:only-of-type {\n",
       "        vertical-align: middle;\n",
       "    }\n",
       "\n",
       "    .dataframe tbody tr th {\n",
       "        vertical-align: top;\n",
       "    }\n",
       "\n",
       "    .dataframe thead th {\n",
       "        text-align: right;\n",
       "    }\n",
       "</style>\n",
       "<table border=\"1\" class=\"dataframe\">\n",
       "  <thead>\n",
       "    <tr style=\"text-align: right;\">\n",
       "      <th></th>\n",
       "      <th>rank</th>\n",
       "      <th>cca3</th>\n",
       "      <th>country</th>\n",
       "      <th>continent</th>\n",
       "      <th>2023 population</th>\n",
       "      <th>2022 population</th>\n",
       "      <th>2020 population</th>\n",
       "      <th>2015 population</th>\n",
       "      <th>2010 population</th>\n",
       "      <th>2000 population</th>\n",
       "      <th>1990 population</th>\n",
       "      <th>1980 population</th>\n",
       "      <th>1970 population</th>\n",
       "      <th>area (km²)</th>\n",
       "      <th>density (km²)</th>\n",
       "      <th>growth rate</th>\n",
       "      <th>world percentage</th>\n",
       "    </tr>\n",
       "  </thead>\n",
       "  <tbody>\n",
       "    <tr>\n",
       "      <th>0</th>\n",
       "      <td>1</td>\n",
       "      <td>IND</td>\n",
       "      <td>India</td>\n",
       "      <td>Asia</td>\n",
       "      <td>1428627663</td>\n",
       "      <td>1417173173</td>\n",
       "      <td>1396387127</td>\n",
       "      <td>1322866505</td>\n",
       "      <td>1240613620</td>\n",
       "      <td>1059633675</td>\n",
       "      <td>870452165</td>\n",
       "      <td>696828385</td>\n",
       "      <td>557501301</td>\n",
       "      <td>3287590.0</td>\n",
       "      <td>481</td>\n",
       "      <td>0.81%</td>\n",
       "      <td>17.85%</td>\n",
       "    </tr>\n",
       "    <tr>\n",
       "      <th>1</th>\n",
       "      <td>2</td>\n",
       "      <td>CHN</td>\n",
       "      <td>China</td>\n",
       "      <td>Asia</td>\n",
       "      <td>1425671352</td>\n",
       "      <td>1425887337</td>\n",
       "      <td>1424929781</td>\n",
       "      <td>1393715448</td>\n",
       "      <td>1348191368</td>\n",
       "      <td>1264099069</td>\n",
       "      <td>1153704252</td>\n",
       "      <td>982372466</td>\n",
       "      <td>822534450</td>\n",
       "      <td>9706961.0</td>\n",
       "      <td>151</td>\n",
       "      <td>-0.02%</td>\n",
       "      <td>17.81%</td>\n",
       "    </tr>\n",
       "    <tr>\n",
       "      <th>2</th>\n",
       "      <td>3</td>\n",
       "      <td>USA</td>\n",
       "      <td>United States</td>\n",
       "      <td>North America</td>\n",
       "      <td>339996563</td>\n",
       "      <td>338289857</td>\n",
       "      <td>335942003</td>\n",
       "      <td>324607776</td>\n",
       "      <td>311182845</td>\n",
       "      <td>282398554</td>\n",
       "      <td>248083732</td>\n",
       "      <td>223140018</td>\n",
       "      <td>200328340</td>\n",
       "      <td>9372610.0</td>\n",
       "      <td>37</td>\n",
       "      <td>0.50%</td>\n",
       "      <td>4.25%</td>\n",
       "    </tr>\n",
       "    <tr>\n",
       "      <th>3</th>\n",
       "      <td>4</td>\n",
       "      <td>IDN</td>\n",
       "      <td>Indonesia</td>\n",
       "      <td>Asia</td>\n",
       "      <td>277534122</td>\n",
       "      <td>275501339</td>\n",
       "      <td>271857970</td>\n",
       "      <td>259091970</td>\n",
       "      <td>244016173</td>\n",
       "      <td>214072421</td>\n",
       "      <td>182159874</td>\n",
       "      <td>148177096</td>\n",
       "      <td>115228394</td>\n",
       "      <td>1904569.0</td>\n",
       "      <td>148</td>\n",
       "      <td>0.74%</td>\n",
       "      <td>3.47%</td>\n",
       "    </tr>\n",
       "    <tr>\n",
       "      <th>4</th>\n",
       "      <td>5</td>\n",
       "      <td>PAK</td>\n",
       "      <td>Pakistan</td>\n",
       "      <td>Asia</td>\n",
       "      <td>240485658</td>\n",
       "      <td>235824862</td>\n",
       "      <td>227196741</td>\n",
       "      <td>210969298</td>\n",
       "      <td>194454498</td>\n",
       "      <td>154369924</td>\n",
       "      <td>115414069</td>\n",
       "      <td>80624057</td>\n",
       "      <td>59290872</td>\n",
       "      <td>881912.0</td>\n",
       "      <td>312</td>\n",
       "      <td>1.98%</td>\n",
       "      <td>3.00%</td>\n",
       "    </tr>\n",
       "  </tbody>\n",
       "</table>\n",
       "</div>"
      ],
      "text/plain": [
       "   rank cca3        country      continent  2023 population  2022 population  \\\n",
       "0     1  IND          India           Asia       1428627663       1417173173   \n",
       "1     2  CHN          China           Asia       1425671352       1425887337   \n",
       "2     3  USA  United States  North America        339996563        338289857   \n",
       "3     4  IDN      Indonesia           Asia        277534122        275501339   \n",
       "4     5  PAK       Pakistan           Asia        240485658        235824862   \n",
       "\n",
       "   2020 population  2015 population  2010 population  2000 population  \\\n",
       "0       1396387127       1322866505       1240613620       1059633675   \n",
       "1       1424929781       1393715448       1348191368       1264099069   \n",
       "2        335942003        324607776        311182845        282398554   \n",
       "3        271857970        259091970        244016173        214072421   \n",
       "4        227196741        210969298        194454498        154369924   \n",
       "\n",
       "   1990 population  1980 population  1970 population  area (km²)  \\\n",
       "0        870452165        696828385        557501301   3287590.0   \n",
       "1       1153704252        982372466        822534450   9706961.0   \n",
       "2        248083732        223140018        200328340   9372610.0   \n",
       "3        182159874        148177096        115228394   1904569.0   \n",
       "4        115414069         80624057         59290872    881912.0   \n",
       "\n",
       "   density (km²) growth rate world percentage  \n",
       "0            481       0.81%           17.85%  \n",
       "1            151      -0.02%           17.81%  \n",
       "2             37       0.50%            4.25%  \n",
       "3            148       0.74%            3.47%  \n",
       "4            312       1.98%            3.00%  "
      ]
     },
     "execution_count": 2,
     "metadata": {},
     "output_type": "execute_result"
    }
   ],
   "source": [
    "df = pd.read_csv(\"world_population_data.csv\")\n",
    "df.head()"
   ]
  },
  {
   "cell_type": "markdown",
   "id": "9e907978-5bb3-4a53-9ad2-b83f52a5ec18",
   "metadata": {},
   "source": [
    "## Dataset Overview\n",
    "\n",
    "This section list the dataset columns,\n"
   ]
  },
  {
   "cell_type": "code",
   "execution_count": 3,
   "id": "60a5ed64-3ad8-4501-940a-b031b6e0dde9",
   "metadata": {},
   "outputs": [
    {
     "data": {
      "text/plain": [
       "0                 rank\n",
       "1                 cca3\n",
       "2              country\n",
       "3            continent\n",
       "4      2023 population\n",
       "5      2022 population\n",
       "6      2020 population\n",
       "7      2015 population\n",
       "8      2010 population\n",
       "9      2000 population\n",
       "10     1990 population\n",
       "11     1980 population\n",
       "12     1970 population\n",
       "13          area (km²)\n",
       "14       density (km²)\n",
       "15         growth rate\n",
       "16    world percentage\n",
       "dtype: object"
      ]
     },
     "execution_count": 3,
     "metadata": {},
     "output_type": "execute_result"
    }
   ],
   "source": [
    "pd.Series(df.columns)"
   ]
  },
  {
   "cell_type": "code",
   "execution_count": 4,
   "id": "6bb0d629-7e54-4a9a-aeb1-ed5c154fbbec",
   "metadata": {},
   "outputs": [
    {
     "data": {
      "text/plain": [
       "rank                0\n",
       "cca3                0\n",
       "country             0\n",
       "continent           0\n",
       "2023 population     0\n",
       "2022 population     0\n",
       "2020 population     0\n",
       "2015 population     0\n",
       "2010 population     0\n",
       "2000 population     0\n",
       "1990 population     0\n",
       "1980 population     0\n",
       "1970 population     0\n",
       "area (km²)          0\n",
       "density (km²)       0\n",
       "growth rate         0\n",
       "world percentage    0\n",
       "dtype: int64"
      ]
     },
     "execution_count": 4,
     "metadata": {},
     "output_type": "execute_result"
    }
   ],
   "source": [
    "df.isna().sum()\n"
   ]
  },
  {
   "cell_type": "code",
   "execution_count": 5,
   "id": "a43de187-b764-49dc-a227-d0fef1aa5ed3",
   "metadata": {},
   "outputs": [
    {
     "data": {
      "text/plain": [
       "0"
      ]
     },
     "execution_count": 5,
     "metadata": {},
     "output_type": "execute_result"
    }
   ],
   "source": [
    "df.duplicated().sum()"
   ]
  },
  {
   "cell_type": "markdown",
   "id": "4fbe6992-65da-4bac-b91f-76e5d6f8c3e7",
   "metadata": {},
   "source": [
    "## Population Growth Trends\n",
    "\n",
    "Examine how populations have changed over time for the top 10 most populous countries.\n"
   ]
  },
  {
   "cell_type": "code",
   "execution_count": 6,
   "id": "1d8f87bb-c060-45bf-ab87-c875b0b00dfb",
   "metadata": {},
   "outputs": [
    {
     "data": {
      "image/png": "[encoded data removed]",
      "text/plain": [
       "<Figure size 1008x576 with 1 Axes>"
      ]
     },
     "metadata": {
      "needs_background": "light"
     },
     "output_type": "display_data"
    }
   ],
   "source": [
    "plt.figure(figsize=(14, 8))\n",
    "sns.histplot(df['2023 population'], bins=10, kde=True)\n",
    "\n",
    "plt.title('Distribution of 2023 Population')\n",
    "plt.xlabel('Population')\n",
    "plt.ylabel('Frequency')\n",
    "\n",
    "plt.show()"
   ]
  },
  {
   "cell_type": "code",
   "execution_count": null,
   "id": "487cf7ac-e54b-439b-b714-54b8b107dfe3",
   "metadata": {},
   "outputs": [],
   "source": []
  },
  {
   "cell_type": "code",
   "execution_count": 7,
   "id": "da26bd7f-1798-451f-b652-e563f0360d0c",
   "metadata": {},
   "outputs": [
    {
     "data": {
      "text/html": [
       "<div>\n",
       "<style scoped>\n",
       "    .dataframe tbody tr th:only-of-type {\n",
       "        vertical-align: middle;\n",
       "    }\n",
       "\n",
       "    .dataframe tbody tr th {\n",
       "        vertical-align: top;\n",
       "    }\n",
       "\n",
       "    .dataframe thead th {\n",
       "        text-align: right;\n",
       "    }\n",
       "</style>\n",
       "<table border=\"1\" class=\"dataframe\">\n",
       "  <thead>\n",
       "    <tr style=\"text-align: right;\">\n",
       "      <th></th>\n",
       "      <th>continent</th>\n",
       "      <th>2023 population</th>\n",
       "    </tr>\n",
       "  </thead>\n",
       "  <tbody>\n",
       "    <tr>\n",
       "      <th>0</th>\n",
       "      <td>Asia</td>\n",
       "      <td>4751819588</td>\n",
       "    </tr>\n",
       "    <tr>\n",
       "      <th>1</th>\n",
       "      <td>Africa</td>\n",
       "      <td>1460476458</td>\n",
       "    </tr>\n",
       "    <tr>\n",
       "      <th>2</th>\n",
       "      <td>Europe</td>\n",
       "      <td>741869197</td>\n",
       "    </tr>\n",
       "    <tr>\n",
       "      <th>3</th>\n",
       "      <td>North America</td>\n",
       "      <td>604155369</td>\n",
       "    </tr>\n",
       "    <tr>\n",
       "      <th>4</th>\n",
       "      <td>South America</td>\n",
       "      <td>439719009</td>\n",
       "    </tr>\n",
       "    <tr>\n",
       "      <th>5</th>\n",
       "      <td>Oceania</td>\n",
       "      <td>45575769</td>\n",
       "    </tr>\n",
       "  </tbody>\n",
       "</table>\n",
       "</div>"
      ],
      "text/plain": [
       "       continent  2023 population\n",
       "0           Asia       4751819588\n",
       "1         Africa       1460476458\n",
       "2         Europe        741869197\n",
       "3  North America        604155369\n",
       "4  South America        439719009\n",
       "5        Oceania         45575769"
      ]
     },
     "execution_count": 7,
     "metadata": {},
     "output_type": "execute_result"
    }
   ],
   "source": [
    "highest_population = df.groupby('continent')['2023 population'].sum().reset_index()\n",
    "# highest_population.sort_values(by='2023 population', ascending=False)\n",
    "highest_population.sort_values(by='2023 population', ascending=False).reset_index(drop=True)"
   ]
  },
  {
   "cell_type": "code",
   "execution_count": 8,
   "id": "3cce5190-f399-4069-b561-a359de9c55af",
   "metadata": {},
   "outputs": [
    {
     "data": {
      "text/html": [
       "<div>\n",
       "<style scoped>\n",
       "    .dataframe tbody tr th:only-of-type {\n",
       "        vertical-align: middle;\n",
       "    }\n",
       "\n",
       "    .dataframe tbody tr th {\n",
       "        vertical-align: top;\n",
       "    }\n",
       "\n",
       "    .dataframe thead th {\n",
       "        text-align: right;\n",
       "    }\n",
       "</style>\n",
       "<table border=\"1\" class=\"dataframe\">\n",
       "  <thead>\n",
       "    <tr style=\"text-align: right;\">\n",
       "      <th></th>\n",
       "      <th>2023 population</th>\n",
       "      <th>country</th>\n",
       "    </tr>\n",
       "  </thead>\n",
       "  <tbody>\n",
       "    <tr>\n",
       "      <th>0</th>\n",
       "      <td>1428627663</td>\n",
       "      <td>India</td>\n",
       "    </tr>\n",
       "    <tr>\n",
       "      <th>1</th>\n",
       "      <td>1425671352</td>\n",
       "      <td>China</td>\n",
       "    </tr>\n",
       "    <tr>\n",
       "      <th>2</th>\n",
       "      <td>339996563</td>\n",
       "      <td>United States</td>\n",
       "    </tr>\n",
       "    <tr>\n",
       "      <th>3</th>\n",
       "      <td>277534122</td>\n",
       "      <td>Indonesia</td>\n",
       "    </tr>\n",
       "    <tr>\n",
       "      <th>4</th>\n",
       "      <td>240485658</td>\n",
       "      <td>Pakistan</td>\n",
       "    </tr>\n",
       "    <tr>\n",
       "      <th>5</th>\n",
       "      <td>223804632</td>\n",
       "      <td>Nigeria</td>\n",
       "    </tr>\n",
       "    <tr>\n",
       "      <th>6</th>\n",
       "      <td>216422446</td>\n",
       "      <td>Brazil</td>\n",
       "    </tr>\n",
       "    <tr>\n",
       "      <th>7</th>\n",
       "      <td>172954319</td>\n",
       "      <td>Bangladesh</td>\n",
       "    </tr>\n",
       "    <tr>\n",
       "      <th>8</th>\n",
       "      <td>144444359</td>\n",
       "      <td>Russia</td>\n",
       "    </tr>\n",
       "    <tr>\n",
       "      <th>9</th>\n",
       "      <td>128455567</td>\n",
       "      <td>Mexico</td>\n",
       "    </tr>\n",
       "  </tbody>\n",
       "</table>\n",
       "</div>"
      ],
      "text/plain": [
       "   2023 population        country\n",
       "0       1428627663          India\n",
       "1       1425671352          China\n",
       "2        339996563  United States\n",
       "3        277534122      Indonesia\n",
       "4        240485658       Pakistan\n",
       "5        223804632        Nigeria\n",
       "6        216422446         Brazil\n",
       "7        172954319     Bangladesh\n",
       "8        144444359         Russia\n",
       "9        128455567         Mexico"
      ]
     },
     "execution_count": 8,
     "metadata": {},
     "output_type": "execute_result"
    }
   ],
   "source": [
    "# top 10 countries by population in 2023\n",
    "top_countries = df.sort_values(by='2023 population', ascending=False).reset_index(drop=True)\n",
    "top_ten_countries = top_countries[['2023 population', 'country']].head(10)\n",
    "\n",
    "top_ten_countries"
   ]
  },
  {
   "cell_type": "code",
   "execution_count": 9,
   "id": "9280ad31-0eb3-46ff-b227-9689065bccf0",
   "metadata": {},
   "outputs": [
    {
     "data": {
      "image/png": "[encoded data removed]",
      "text/plain": [
       "<Figure size 1008x576 with 1 Axes>"
      ]
     },
     "metadata": {
      "needs_background": "light"
     },
     "output_type": "display_data"
    }
   ],
   "source": [
    "# top_ten_countries = top_ten_countries.head(10)\n",
    "\n",
    "# Plot the data using Seaborn\n",
    "plt.figure(figsize=(14, 8))  # Set figure size\n",
    "sns.barplot(\n",
    "    x='2023 population', \n",
    "    y='country', \n",
    "    data=top_ten_countries, \n",
    "    palette='Blues_r'  # Custom color palette\n",
    ")\n",
    "\n",
    "# Add title and labels\n",
    "plt.title('Top 10 Countries by Population in 2023', fontsize=20, pad=20)\n",
    "plt.xlabel('Population', fontsize=16, labelpad=15)\n",
    "plt.ylabel('Country', fontsize=16, labelpad=15)\n",
    "\n",
    "# Format the ticks\n",
    "plt.xticks(fontsize=14)\n",
    "plt.yticks(fontsize=14)\n",
    "\n",
    "# Ensure layout is tight and display the plot\n",
    "plt.tight_layout()\n",
    "plt.show()"
   ]
  },
  {
   "cell_type": "markdown",
   "id": "ce2cb59d-cc67-4e05-90d8-e5afaa2c3153",
   "metadata": {
    "tags": []
   },
   "source": [
    "## Population vs. Density\n",
    "\n",
    "This scatter plot below visualizes the relationship between a country's population size and its population density. \n",
    "\n",
    "\n"
   ]
  },
  {
   "cell_type": "code",
   "execution_count": 10,
   "id": "beba86a2-86b4-445b-9b71-312896d3bf4b",
   "metadata": {},
   "outputs": [
    {
     "data": {
      "image/png": "[encoded data removed]",
      "text/plain": [
       "<Figure size 1008x576 with 1 Axes>"
      ]
     },
     "metadata": {
      "needs_background": "light"
     },
     "output_type": "display_data"
    }
   ],
   "source": [
    "plt.figure(figsize=(14, 8))\n",
    "sns.scatterplot(x = '2023 population', y=\"density (km²)\", data=df)\n",
    "plt.title('Population and Density Scatter Plot', fontsize=20, pad=20)\n",
    "plt.xlabel('Population')\n",
    "plt.ylabel('Density')\n",
    "plt.show()"
   ]
  },
  {
   "cell_type": "markdown",
   "id": "c7b54830-9c92-49af-b244-3a3d4cdb928b",
   "metadata": {},
   "source": [
    "Key observations from the plot above:\n",
    "- Larger populations do not always correspond to higher densities (e.g., large countries with vast land areas often have lower densities).\n",
    "- Countries with high population densities tend to be smaller in area but densely packed (e.g., city-states or island nations).\n",
    "The plot can help identify patterns in urbanization, land use, and population distribution."
   ]
  },
  {
   "cell_type": "markdown",
   "id": "4c1559b3-5c33-40c2-8271-9c4a265df2ee",
   "metadata": {},
   "source": []
  },
  {
   "cell_type": "code",
   "execution_count": 11,
   "id": "ad1d5e1f-7fe1-4d11-829b-64dd2cae355d",
   "metadata": {},
   "outputs": [
    {
     "data": {
      "text/plain": [
       "continent\n",
       "Asia             32138143.90\n",
       "Africa           30317963.00\n",
       "North America    24244178.00\n",
       "Europe           23010411.26\n",
       "South America    17833382.00\n",
       "Oceania           8515218.00\n",
       "Name: area (km²), dtype: float64"
      ]
     },
     "execution_count": 11,
     "metadata": {},
     "output_type": "execute_result"
    }
   ],
   "source": [
    "df.groupby(\"continent\")[\"area (km²)\"].sum().sort_values(ascending=False)"
   ]
  },
  {
   "cell_type": "markdown",
   "id": "5d32aad3-6a39-4d4d-bb6a-2cced83dbf16",
   "metadata": {},
   "source": [
    "## Population Density Across Continents\n",
    "\n",
    "This violin plot illustrates the distribution of population densities across different continents. \n",
    "\n",
    "Key points to observe:\n",
    "- The width of the plot at each level indicates the density distribution's concentration for that continent.\n",
    "- Continents with high variability in density (e.g., Asia) show a wider spread, indicating the presence of both highly dense countries (e.g., city-states) and sparsely populated ones (e.g., large landmass countries).\n",
    "- Comparatively narrower plots suggest more uniform densities within the continent.\n",
    "\n",
    "This visualization provides insights into how population density varies within and across continents, offering clues about regional land use and urbanization trends.\n"
   ]
  },
  {
   "cell_type": "code",
   "execution_count": 12,
   "id": "dd2b7261-b558-40f5-a93e-2c510afec566",
   "metadata": {},
   "outputs": [
    {
     "data": {
      "image/png": "[encoded data removed]",
      "text/plain": [
       "<Figure size 1008x576 with 1 Axes>"
      ]
     },
     "metadata": {
      "needs_background": "light"
     },
     "output_type": "display_data"
    }
   ],
   "source": [
    "plt.figure(figsize=(14, 8))\n",
    "sns.violinplot(x = 'continent', y=\"density (km²)\", data=df, pallet=\"viridis\")\n",
    "plt.title('Population Density Across Continents', fontsize=20, pad=20)\n",
    "plt.xlabel('Continent')\n",
    "plt.ylabel('Population Density')\n",
    "plt.show()"
   ]
  },
  {
   "cell_type": "markdown",
   "id": "a04f86ce-3042-4976-bf37-f3bfae896c3a",
   "metadata": {},
   "source": [
    "## Conclusion\n",
    "\n",
    "Key takeaways from the analysis:\n",
    "1. India surpassed China in population by 2023, with over 1.43 billion people.\n",
    "2. Asia hosts the majority of the world’s population, followed by Africa and Europe.\n",
    "3. Countries with high population densities, such as small island nations, exhibit unique growth dynamics.\n",
    "4. Some continents show rapid growth rates, while others are stabilizing or declining.\n",
    "\n",
    "These insights can guide policies on urbanization, resource allocation, and sustainable development.\n"
   ]
  },
  {
   "cell_type": "code",
   "execution_count": null,
   "id": "6f4f4842-d5a6-48bf-bbb3-3f2e3a667b42",
   "metadata": {},
   "outputs": [],
   "source": []
  }
 ],
 "metadata": {
  "kernelspec": {
   "display_name": "Python 3 (ipykernel)",
   "language": "python",
   "name": "python3"
  },
  "language_info": {
   "codemirror_mode": {
    "name": "ipython",
    "version": 3
   },
   "file_extension": ".py",
   "mimetype": "text/x-python",
   "name": "python",
   "nbconvert_exporter": "python",
   "pygments_lexer": "ipython3",
   "version": "3.9.12"
  }
 },
 "nbformat": 4,
 "nbformat_minor": 5
}
