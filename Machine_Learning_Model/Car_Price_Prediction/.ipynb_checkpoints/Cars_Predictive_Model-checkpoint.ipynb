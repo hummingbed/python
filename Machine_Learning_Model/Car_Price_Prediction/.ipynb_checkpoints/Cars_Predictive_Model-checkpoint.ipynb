{
 "cells": [
  {
   "cell_type": "code",
   "id": "463e3056",
   "metadata": {},
   "outputs": [],
   "source": [
    "import pandas as pd\n",
    "import numpy as np\n",
    "from sklearn.model_selection import train_test_split\n",
    "from sklearn.linear_model import LinearRegression\n",
    "import warnings\n",
    "warnings.simplefilter(action='ignore', category=FutureWarning)\n"
   ]
  },
  {
   "cell_type": "code",
   "id": "51fb8813",
   "metadata": {},
   "outputs": [],
   "source": [
    "# Load the dataset\n",
    "car_df = pd.read_csv('Cardetails.csv')\n"
   ]
  },
  {
   "cell_type": "code",
   "id": "41c22874",
   "metadata": {},
   "outputs": [],
   "source": [
    "# Drop unnecessary columns and handle missing values\n",
    "car_df.drop(columns='torque', inplace=True)\n",
    "car_df.dropna(inplace=True)\n",
    "car_df.drop_duplicates(inplace=True)\n"
   ]
  },
  {
   "cell_type": "code",
   "id": "dcb67b0f",
   "metadata": {},
   "outputs": [],
   "source": [
    "# Utility functions for cleaning and transforming data\n",
    "def get_brand_name(car_name):\n",
    "    return car_name.split()[0].strip()\n",
    "\n",
    "def clean_numeric(value):\n",
    "    value = value.split(' ')[0].strip()\n",
    "    return float(value) if value else 0.0\n"
   ]
  },
  {
   "cell_type": "code",
   "id": "8c284414",
   "metadata": {},
   "outputs": [],
   "source": [
    "# Transform data using utility functions\n",
    "car_df['name'] = car_df['name'].apply(get_brand_name)\n",
    "car_df['mileage'] = car_df['mileage'].apply(clean_numeric)\n",
    "car_df['max_power'] = car_df['max_power'].apply(clean_numeric)\n",
    "car_df['engine'] = car_df['engine'].apply(clean_numeric)\n",
    "\n",
    "# Encode categorical variables\n",
    "encode_dicts = {\n",
    "    'name': {name: idx+1 for idx, name in enumerate(car_df['name'].unique())},\n",
    "    'transmission': {'Manual': 1, 'Automatic': 2},\n",
    "    'seller_type': {'Individual': 1, 'Dealer': 2, 'Trustmark Dealer': 3},\n",
    "    'fuel': {'Diesel': 1, 'Petrol': 2, 'LPG': 3, 'CNG': 4},\n",
    "    'owner': {'First Owner': 1, 'Second Owner': 2, 'Third Owner': 3, 'Fourth & Above Owner': 4, 'Test Drive Car': 5}\n",
    "}\n",
    "for col, mapping in encode_dicts.items():\n",
    "    car_df[col].replace(mapping, inplace=True)\n"
   ]
  },
  {
   "cell_type": "code",
   "id": "6fb25709",
   "metadata": {},
   "outputs": [],
   "source": [
    "# Prepare data for modeling\n",
    "input_data = car_df.drop(columns=['selling_price'])\n",
    "output_data = car_df['selling_price']\n",
    "\n",
    "# Split data\n",
    "x_train, x_test, y_train, y_test = train_test_split(input_data, output_data, test_size=0.2, random_state=42)\n",
    "\n",
    "# Train a linear regression model\n",
    "model = LinearRegression()\n",
    "model.fit(x_train, y_train)\n",
    "\n",
    "# Make predictions\n",
    "predictions = model.predict(x_test)\n",
    "print(predictions)\n"
   ]
  },
  {
   "cell_type": "code",
   "id": "71d9f853",
   "metadata": {},
   "outputs": [],
   "source": [
    "# Predicting for new input\n",
    "new_data = pd.DataFrame(\n",
    "    [[9, 2023, 9000, 2, 1, 1, 1, 20.3, 1199.0, 84.0, 5.0]],\n",
    "    columns=['name', 'year', 'km_driven', 'fuel', 'seller_type', 'transmission', 'owner', 'mileage', 'engine', 'max_power', 'seats']\n",
    ")\n",
    "new_prediction = model.predict(new_data)\n",
    "print(new_prediction)\n"
   ]
  }
 ],
 "metadata": {
  "kernelspec": {
   "display_name": "Python 3 (ipykernel)",
   "language": "python",
   "name": "python3"
  },
  "language_info": {
   "codemirror_mode": {
    "name": "ipython",
    "version": 3
   },
   "file_extension": ".py",
   "mimetype": "text/x-python",
   "name": "python",
   "nbconvert_exporter": "python",
   "pygments_lexer": "ipython3",
   "version": "3.9.12"
  }
 },
 "nbformat": 4,
 "nbformat_minor": 5
}
